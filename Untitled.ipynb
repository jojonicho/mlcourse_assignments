{
 "cells": [
  {
   "cell_type": "code",
   "execution_count": 6,
   "metadata": {},
   "outputs": [
    {
     "name": "stdout",
     "output_type": "stream",
     "text": [
      "#####\n",
      "BudayaKB Lite v1.0\n",
      "Kalau bukan kita yang melestarikan budaya, siapa lagi?\n",
      "#####\n"
     ]
    }
   ],
   "source": [
    "import csv\n",
    "import pandas as pd\n",
    "\n",
    "\n",
    "class Budaya:\n",
    "    def __init__(self, tipe, daerah, link):\n",
    "        # nama = self.nama\n",
    "        self.tipe = tipe\n",
    "        self.daerah = daerah\n",
    "        self.link = link\n",
    "\n",
    "    # def __repr__(self):\n",
    "    #     return '{tipe:'+self.tipe', daerah:'+self.daerah', link:'+self.link+\"}\"\n",
    "\n",
    "\n",
    "def IMPOR(filename):\n",
    "    budaya_dict = {\n",
    "    }\n",
    "    with open(filename, newline='') as csv_file:\n",
    "        file = csv.reader(csv_file)\n",
    "        for row in file:\n",
    "            budaya_dict[row[0]] = Budaya(row[1], row[2], row[3])\n",
    "    return budaya_dict\n",
    "\n",
    "\n",
    "print(\"#####\\nBudayaKB Lite v1.0\\nKalau bukan kita yang melestarikan budaya, siapa lagi?\\n#####\")"
   ]
  },
  {
   "cell_type": "code",
   "execution_count": 9,
   "metadata": {},
   "outputs": [],
   "source": [
    "df = pd.read_csv('')\n",
    "df.columns = ['nama','jenis','asal','link']"
   ]
  },
  {
   "cell_type": "code",
   "execution_count": 10,
   "metadata": {},
   "outputs": [
    {
     "data": {
      "text/html": [
       "<div>\n",
       "<style scoped>\n",
       "    .dataframe tbody tr th:only-of-type {\n",
       "        vertical-align: middle;\n",
       "    }\n",
       "\n",
       "    .dataframe tbody tr th {\n",
       "        vertical-align: top;\n",
       "    }\n",
       "\n",
       "    .dataframe thead th {\n",
       "        text-align: right;\n",
       "    }\n",
       "</style>\n",
       "<table border=\"1\" class=\"dataframe\">\n",
       "  <thead>\n",
       "    <tr style=\"text-align: right;\">\n",
       "      <th></th>\n",
       "      <th>a</th>\n",
       "    </tr>\n",
       "  </thead>\n",
       "  <tbody>\n",
       "  </tbody>\n",
       "</table>\n",
       "</div>"
      ],
      "text/plain": [
       "Empty DataFrame\n",
       "Columns: [a]\n",
       "Index: []"
      ]
     },
     "execution_count": 10,
     "metadata": {},
     "output_type": "execute_result"
    }
   ],
   "source": []
  },
  {
   "cell_type": "code",
   "execution_count": null,
   "metadata": {},
   "outputs": [],
   "source": []
  }
 ],
 "metadata": {
  "kernelspec": {
   "display_name": "Python 3",
   "language": "python",
   "name": "python3"
  }
 },
 "nbformat": 4,
 "nbformat_minor": 2
}
